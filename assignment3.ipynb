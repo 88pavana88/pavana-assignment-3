{
  "cells": [
    {
      "cell_type": "markdown",
      "id": "245217cc",
      "metadata": {
        "id": "245217cc"
      },
      "source": [
        "# Assignment: SVD Preprocessing on MNIST with Logistic Regression"
      ]
    },
    {
      "cell_type": "markdown",
      "id": "deffa444",
      "metadata": {
        "id": "deffa444"
      },
      "source": [
        "## Instructions:\n",
        "In this assignment, you will apply **Singular Value Decomposition (SVD)** as a preprocessing step to the **MNIST dataset** and train a **logistic regression classifier**. You will compare the model performance and training time when using different levels of SVD for dimensionality reduction.\n",
        "\n",
        "In this assignment, you will need to:\n",
        "1. Load the MNIST dataset and normalize it.\n",
        "2. Perform SVD and reduce the dimensions of the data.\n",
        "3. Train a logistic regression model on the original and SVD-reduced data.\n",
        "4. Measure and compare the training time and accuracy of the model with varying SVD components.\n",
        "5. Plot the results and analyze how SVD impacts the performance and efficiency of the model.\n",
        "\n",
        "***\n",
        "Your tasks include:\n",
        "1. Implement SVD algorithm. You are not allowed to directly use SVD implemented by other packages, but you may use functions in NumPy. (Part 2)\n",
        "2. Explore the accuracy and time performance from different numbers of SVD components. (Part 4)\n",
        "3. Visualize the accuracy, time performance and top 5 singular vectors in the dataset, analyze and explain which number of SVD component looks best to you? (Part 4,5&6) Hint: singular vectors should be reshaped to 28x28 images for visualization.\n",
        "***\n",
        "**Note that you may not import any other function or package.** Let's get started!\n"
      ]
    },
    {
      "cell_type": "markdown",
      "id": "b3e10cb3",
      "metadata": {
        "id": "b3e10cb3"
      },
      "source": [
        "## Part 1: Load the MNIST dataset and preprocess the data"
      ]
    },
    {
      "cell_type": "code",
      "execution_count": 2,
      "id": "79f2d907",
      "metadata": {
        "colab": {
          "base_uri": "https://localhost:8080/"
        },
        "id": "79f2d907",
        "outputId": "bad6b854-5a56-46c5-919f-ebdc637b5e87"
      },
      "outputs": [
        {
          "output_type": "stream",
          "name": "stdout",
          "text": [
            "Loading MNIST dataset...\n"
          ]
        }
      ],
      "source": [
        "import numpy as np\n",
        "import matplotlib.pyplot as plt\n",
        "import time\n",
        "from sklearn.linear_model import LogisticRegression\n",
        "from sklearn.model_selection import train_test_split\n",
        "from sklearn.datasets import fetch_openml\n",
        "from sklearn.metrics import accuracy_score, classification_report\n",
        "\n",
        "# Load MNIST dataset\n",
        "print(\"Loading MNIST dataset...\")\n",
        "mnist = fetch_openml('mnist_784', version=1)\n",
        "X = mnist.data\n",
        "y = mnist.target\n",
        "\n",
        "# Normalize the data\n",
        "X = X / 255.0\n",
        "\n",
        "# Split into training and test sets\n",
        "X_train, X_test, y_train, y_test = train_test_split(X, y, test_size=0.2, random_state=42)\n"
      ]
    },
    {
      "cell_type": "markdown",
      "id": "28b8572d",
      "metadata": {
        "id": "28b8572d"
      },
      "source": [
        "## Part 2: Implement SVD for Dimensionality Reduction"
      ]
    },
    {
      "cell_type": "code",
      "execution_count": 3,
      "id": "b3bd59f3",
      "metadata": {
        "id": "b3bd59f3"
      },
      "outputs": [],
      "source": [
        "def apply_svd_custom(X_train, X_test, n_components):\n",
        "    Cmatrix = np.dot(X_train.T, X_train)\n",
        "    eigVal, eigVec = np.linalg.eigh(Cmatrix)\n",
        "    orderedInd = np.argsort(eigVal)[::-1]\n",
        "    largestComponents = orderedInd[:n_components]\n",
        "    largestEigVec = eigVec[:, largestComponents]\n",
        "    X_train_svd = np.dot(X_train, largestEigVec)\n",
        "    X_test_svd = np.dot(X_test, largestEigVec)\n",
        "\n",
        "    return X_train_svd, X_test_svd, largestEigVec"
      ]
    },
    {
      "cell_type": "markdown",
      "id": "eb2a7a9d",
      "metadata": {
        "id": "eb2a7a9d"
      },
      "source": [
        "## Part 3: Train Logistic Regression and Measure Performance"
      ]
    },
    {
      "cell_type": "code",
      "execution_count": 4,
      "id": "dbfc0b10",
      "metadata": {
        "id": "dbfc0b10"
      },
      "outputs": [],
      "source": [
        "# Function to train logistic regression and track training time\n",
        "def train_logistic_regression(X_train, y_train, X_test, y_test):\n",
        "    model = LogisticRegression(max_iter=1000, solver='saga', random_state=42, multi_class='multinomial')\n",
        "\n",
        "    # Measure training time\n",
        "    start_time = time.time()\n",
        "    model.fit(X_train, y_train)\n",
        "    training_time = time.time() - start_time\n",
        "\n",
        "    y_pred = model.predict(X_test)\n",
        "    accuracy = accuracy_score(y_test, y_pred)\n",
        "\n",
        "    return accuracy, training_time\n"
      ]
    },
    {
      "cell_type": "markdown",
      "id": "2e557a05",
      "metadata": {
        "id": "2e557a05"
      },
      "source": [
        "## Part 4: Experiment with Different Levels of SVD\n",
        "\n",
        "Now, apply SVD with varying numbers of components and observe how the dimensionality reduction impacts the model's performance. Record both the accuracy and training time for each number of components.\n"
      ]
    },
    {
      "cell_type": "code",
      "execution_count": 9,
      "id": "3a460725",
      "metadata": {
        "colab": {
          "base_uri": "https://localhost:8080/"
        },
        "id": "3a460725",
        "outputId": "0518a264-7eb7-4015-9424-5ff77d54aca4"
      },
      "outputs": [
        {
          "output_type": "stream",
          "name": "stdout",
          "text": [
            "Training models with different levels of SVD preprocessing...\n",
            "Applying custom SVD with 10 components...\n"
          ]
        },
        {
          "output_type": "stream",
          "name": "stderr",
          "text": [
            "/usr/local/lib/python3.10/dist-packages/sklearn/linear_model/_logistic.py:1247: FutureWarning: 'multi_class' was deprecated in version 1.5 and will be removed in 1.7. From then on, it will always use 'multinomial'. Leave it to its default value to avoid this warning.\n",
            "  warnings.warn(\n"
          ]
        },
        {
          "output_type": "stream",
          "name": "stdout",
          "text": [
            "SVD components: 10, Accuracy: 0.8020, Training time: 1.4214 seconds\n",
            "Applying custom SVD with 25 components...\n"
          ]
        },
        {
          "output_type": "stream",
          "name": "stderr",
          "text": [
            "/usr/local/lib/python3.10/dist-packages/sklearn/linear_model/_logistic.py:1247: FutureWarning: 'multi_class' was deprecated in version 1.5 and will be removed in 1.7. From then on, it will always use 'multinomial'. Leave it to its default value to avoid this warning.\n",
            "  warnings.warn(\n"
          ]
        },
        {
          "output_type": "stream",
          "name": "stdout",
          "text": [
            "SVD components: 25, Accuracy: 0.8854, Training time: 4.0683 seconds\n",
            "Applying custom SVD with 50 components...\n"
          ]
        },
        {
          "output_type": "stream",
          "name": "stderr",
          "text": [
            "/usr/local/lib/python3.10/dist-packages/sklearn/linear_model/_logistic.py:1247: FutureWarning: 'multi_class' was deprecated in version 1.5 and will be removed in 1.7. From then on, it will always use 'multinomial'. Leave it to its default value to avoid this warning.\n",
            "  warnings.warn(\n"
          ]
        },
        {
          "output_type": "stream",
          "name": "stdout",
          "text": [
            "SVD components: 50, Accuracy: 0.9085, Training time: 18.1870 seconds\n",
            "Applying custom SVD with 100 components...\n"
          ]
        },
        {
          "output_type": "stream",
          "name": "stderr",
          "text": [
            "/usr/local/lib/python3.10/dist-packages/sklearn/linear_model/_logistic.py:1247: FutureWarning: 'multi_class' was deprecated in version 1.5 and will be removed in 1.7. From then on, it will always use 'multinomial'. Leave it to its default value to avoid this warning.\n",
            "  warnings.warn(\n"
          ]
        },
        {
          "output_type": "stream",
          "name": "stdout",
          "text": [
            "SVD components: 100, Accuracy: 0.9181, Training time: 63.1428 seconds\n",
            "Applying custom SVD with 250 components...\n"
          ]
        },
        {
          "output_type": "stream",
          "name": "stderr",
          "text": [
            "/usr/local/lib/python3.10/dist-packages/sklearn/linear_model/_logistic.py:1247: FutureWarning: 'multi_class' was deprecated in version 1.5 and will be removed in 1.7. From then on, it will always use 'multinomial'. Leave it to its default value to avoid this warning.\n",
            "  warnings.warn(\n"
          ]
        },
        {
          "output_type": "stream",
          "name": "stdout",
          "text": [
            "SVD components: 250, Accuracy: 0.9211, Training time: 214.8064 seconds\n",
            "Applying custom SVD with 300 components...\n"
          ]
        },
        {
          "output_type": "stream",
          "name": "stderr",
          "text": [
            "/usr/local/lib/python3.10/dist-packages/sklearn/linear_model/_logistic.py:1247: FutureWarning: 'multi_class' was deprecated in version 1.5 and will be removed in 1.7. From then on, it will always use 'multinomial'. Leave it to its default value to avoid this warning.\n",
            "  warnings.warn(\n"
          ]
        },
        {
          "output_type": "stream",
          "name": "stdout",
          "text": [
            "SVD components: 300, Accuracy: 0.9205, Training time: 262.2070 seconds\n",
            "Applying custom SVD with 500 components...\n"
          ]
        },
        {
          "output_type": "stream",
          "name": "stderr",
          "text": [
            "/usr/local/lib/python3.10/dist-packages/sklearn/linear_model/_logistic.py:1247: FutureWarning: 'multi_class' was deprecated in version 1.5 and will be removed in 1.7. From then on, it will always use 'multinomial'. Leave it to its default value to avoid this warning.\n",
            "  warnings.warn(\n"
          ]
        },
        {
          "output_type": "stream",
          "name": "stdout",
          "text": [
            "SVD components: 500, Accuracy: 0.9205, Training time: 555.9980 seconds\n",
            "Applying custom SVD with 784 components...\n"
          ]
        },
        {
          "output_type": "stream",
          "name": "stderr",
          "text": [
            "/usr/local/lib/python3.10/dist-packages/sklearn/linear_model/_logistic.py:1247: FutureWarning: 'multi_class' was deprecated in version 1.5 and will be removed in 1.7. From then on, it will always use 'multinomial'. Leave it to its default value to avoid this warning.\n",
            "  warnings.warn(\n"
          ]
        },
        {
          "output_type": "stream",
          "name": "stdout",
          "text": [
            "SVD components: 784, Accuracy: 0.9209, Training time: 915.7548 seconds\n"
          ]
        }
      ],
      "source": [
        "svd_components = [10, 25, 50, 100, 250, 300, 500, 784]  # You need to decide what number to search...\n",
        "\n",
        "# Store the results\n",
        "results = []\n",
        "\n",
        "print(\"Training models with different levels of SVD preprocessing...\")\n",
        "for n_components in svd_components:\n",
        "    print(f\"Applying custom SVD with {n_components} components...\")\n",
        "\n",
        "    # Apply SVD to the training and test sets\n",
        "    # Call apply_svd_custom() here...\n",
        "    X_train_svd, X_test_svd, singular_vectors = apply_svd_custom(X_train, X_test, n_components)\n",
        "    # Train the logistic regression model and get accuracy and training time\n",
        "    accuracy, training_time = train_logistic_regression(X_train_svd, y_train, X_test_svd, y_test)\n",
        "\n",
        "    results.append({\n",
        "        'n_components': n_components,\n",
        "        'accuracy': accuracy,\n",
        "        'training_time': training_time\n",
        "    })\n",
        "\n",
        "\n",
        "    print(f\"SVD components: {n_components}, Accuracy: {accuracy:.4f}, Training time: {training_time:.4f} seconds\")\n"
      ]
    },
    {
      "cell_type": "markdown",
      "id": "ea7aca12",
      "metadata": {
        "id": "ea7aca12"
      },
      "source": [
        "## Part 5: Visualize and Analyze the Results\n",
        "\n",
        "Finally, plot the accuracy, training time as a function of the number of SVD components, and top 5 singular vectors. This will help you understand the trade-off between dimensionality reduction, accuracy, and model training time, and how SVD generally works. Hint: singular vectors should be reshaped to 28x28 images for visualization.\n"
      ]
    },
    {
      "cell_type": "code",
      "execution_count": 10,
      "id": "92ef0497",
      "metadata": {
        "colab": {
          "base_uri": "https://localhost:8080/",
          "height": 660
        },
        "id": "92ef0497",
        "outputId": "2e18cb52-5aad-40e5-e83e-25e6e7b14b86"
      },
      "outputs": [
        {
          "output_type": "display_data",
          "data": {
            "text/plain": [
              "<Figure size 1200x500 with 2 Axes>"
            ],
            "image/png": "[encoded data removed]"
          },
          "metadata": {}
        },
        {
          "output_type": "display_data",
          "data": {
            "text/plain": [
              "<Figure size 1000x200 with 5 Axes>"
            ],
            "image/png": "[encoded data removed]"
          },
          "metadata": {}
        }
      ],
      "source": [
        "import matplotlib.pyplot as plt\n",
        "\n",
        "# Plot accuracy and training time\n",
        "components = [r['n_components'] for r in results]\n",
        "accuracy = [r['accuracy'] for r in results]\n",
        "training_time = [r['training_time'] for r in results]\n",
        "\n",
        "plt.figure(figsize=(12, 5))\n",
        "plt.subplot(1, 2, 1)\n",
        "plt.plot(components, accuracy, 'o-')\n",
        "plt.title('Accuracy vs SVD Components')\n",
        "plt.xlabel('SVD Components')\n",
        "plt.ylabel('Accuracy')\n",
        "\n",
        "plt.subplot(1, 2, 2)\n",
        "plt.plot(components, training_time, 'o-', color='orange')\n",
        "plt.title('Training Time vs SVD Components')\n",
        "plt.xlabel('SVD Components')\n",
        "plt.ylabel('Training Time (s)')\n",
        "plt.tight_layout()\n",
        "plt.show()\n",
        "\n",
        "# Plot top 5 singular vectors\n",
        "def plot_singular_vectors(vectors):\n",
        "    plt.figure(figsize=(10, 2))\n",
        "    for i in range(5):\n",
        "        plt.subplot(1, 5, i+1)\n",
        "        plt.imshow(vectors[:, i].reshape(28, 28), cmap='gray')\n",
        "        plt.axis('off')\n",
        "    plt.show()\n",
        "\n",
        "plot_singular_vectors(singular_vectors)  # Call after storing singular vectors in Part 4\n"
      ]
    },
    {
      "cell_type": "markdown",
      "id": "4210569a",
      "metadata": {
        "id": "4210569a"
      },
      "source": [
        "## Part 6: Analyze / Conclusion\n",
        "\n",
        "YOUR ANSWER:\n",
        "Using SVD to reduce the MNIST dataset reveals a direct relationship between the number of components and both accuracy and training time. With fewer components (like 10 or 25), the model lost critical details, resulting in lower accuracy, though it trained very quickly. As we increased the components to 100 and beyond, the model's accuracy improved significantly, coming close to the performance of the full dataset, particularly in the range of 100 to 250 components. However, the resulting compromise was a noticeable jump in training time, which significantly increased with more components. This indicates that most of the useful information is captured in the first 100–250 components, and adding more components provides less accurate returns but requires more computations. The top 5 singular vectors give insight into what the model retains, showing the most important features or patterns in the digits. Overall, the experiment shows that SVD can effectively reduce data size without sacrificing too much performance, though finding the right balance between accuracy and efficiency is crucial for practical applications."
      ]
    },
    {
      "cell_type": "code",
      "execution_count": null,
      "id": "d47f043c",
      "metadata": {
        "id": "d47f043c"
      },
      "outputs": [],
      "source": []
    }
  ],
  "metadata": {
    "kernelspec": {
      "display_name": "Python 3",
      "language": "python",
      "name": "python3"
    },
    "language_info": {
      "codemirror_mode": {
        "name": "ipython",
        "version": 3
      },
      "file_extension": ".py",
      "mimetype": "text/x-python",
      "name": "python",
      "nbconvert_exporter": "python",
      "pygments_lexer": "ipython3",
      "version": "3.8.10"
    },
    "colab": {
      "provenance": []
    }
  },
  "nbformat": 4,
  "nbformat_minor": 5
}